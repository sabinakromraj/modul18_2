{
  "nbformat": 4,
  "nbformat_minor": 0,
  "metadata": {
    "colab": {
      "provenance": []
    },
    "kernelspec": {
      "name": "python3",
      "display_name": "Python 3"
    },
    "language_info": {
      "name": "python"
    }
  },
  "cells": [
    {
      "cell_type": "code",
      "execution_count": 7,
      "metadata": {
        "id": "BnxZlTKR_tbB"
      },
      "outputs": [],
      "source": [
        "import numpy as np\n",
        "import pandas as pd\n",
        "from sklearn.model_selection import train_test_split\n",
        "from sklearn.preprocessing import StandardScaler\n",
        "from sklearn.datasets import load_iris\n",
        "from keras.models import Sequential\n",
        "from keras.layers import Dense\n",
        "from keras.callbacks import LearningRateScheduler\n",
        "from keras.utils import to_categorical"
      ]
    },
    {
      "cell_type": "code",
      "source": [
        "def const_scheduler(epoch):\n",
        "    if epoch < 10:\n",
        "        return 0.05\n",
        "    elif epoch < 20:\n",
        "        return 0.005\n",
        "    else:\n",
        "        return 0.0005\n",
        "\n",
        "\n",
        "iris = load_iris()\n",
        "X = iris.data\n",
        "y = iris.target\n",
        "\n",
        "X_train, X_test, y_train, y_test = train_test_split(X, y, test_size=0.2, random_state=42, stratify=y)\n",
        "\n",
        "scaler = StandardScaler()\n",
        "X_train = scaler.fit_transform(X_train)\n",
        "X_test = scaler.transform(X_test)\n",
        "\n",
        "y_train_encoded = to_categorical(y_train)\n",
        "y_test_encoded = to_categorical(y_test)"
      ],
      "metadata": {
        "id": "ydqXP_9b_1vk"
      },
      "execution_count": 2,
      "outputs": []
    },
    {
      "cell_type": "code",
      "source": [
        "model = Sequential([\n",
        "    Dense(8, input_dim=4, activation='relu'),\n",
        "    Dense(16, activation='relu'),\n",
        "    Dense(3, activation='softmax')\n",
        "])\n",
        "\n",
        "model.compile(\n",
        "    loss='categorical_crossentropy',\n",
        "    optimizer='adam',\n",
        "    metrics=['accuracy']\n",
        ")\n",
        "\n",
        "model.summary()"
      ],
      "metadata": {
        "colab": {
          "base_uri": "https://localhost:8080/"
        },
        "id": "9d-Ttu3wCjSz",
        "outputId": "efc2b190-c0b2-4b06-ffb1-2356b63eef8a"
      },
      "execution_count": 3,
      "outputs": [
        {
          "output_type": "stream",
          "name": "stdout",
          "text": [
            "Model: \"sequential\"\n",
            "_________________________________________________________________\n",
            " Layer (type)                Output Shape              Param #   \n",
            "=================================================================\n",
            " dense (Dense)               (None, 8)                 40        \n",
            "                                                                 \n",
            " dense_1 (Dense)             (None, 16)                144       \n",
            "                                                                 \n",
            " dense_2 (Dense)             (None, 3)                 51        \n",
            "                                                                 \n",
            "=================================================================\n",
            "Total params: 235 (940.00 Byte)\n",
            "Trainable params: 235 (940.00 Byte)\n",
            "Non-trainable params: 0 (0.00 Byte)\n",
            "_________________________________________________________________\n"
          ]
        }
      ]
    },
    {
      "cell_type": "code",
      "source": [
        "lr_schedule = LearningRateScheduler(const_scheduler)\n",
        "\n",
        "model.fit(X_train, y_train_encoded, epochs=50, callbacks = [lr_schedule], verbose=2)\n",
        "\n",
        "loss, accuracy = model.evaluate(X_test, y_test_encoded)\n",
        "print(f'Loss test:{loss}\\nAccuracy test: {accuracy}')"
      ],
      "metadata": {
        "colab": {
          "base_uri": "https://localhost:8080/"
        },
        "id": "ZwdZPjFLOhNo",
        "outputId": "72c05f6d-e36d-4429-ebe6-3fcc247b0591"
      },
      "execution_count": 5,
      "outputs": [
        {
          "output_type": "stream",
          "name": "stdout",
          "text": [
            "Epoch 1/50\n",
            "4/4 - 0s - loss: 0.0419 - accuracy: 0.9833 - lr: 0.0500 - 38ms/epoch - 10ms/step\n",
            "Epoch 2/50\n",
            "4/4 - 0s - loss: 0.0355 - accuracy: 0.9833 - lr: 0.0500 - 32ms/epoch - 8ms/step\n",
            "Epoch 3/50\n",
            "4/4 - 0s - loss: 0.0503 - accuracy: 0.9750 - lr: 0.0500 - 37ms/epoch - 9ms/step\n",
            "Epoch 4/50\n",
            "4/4 - 0s - loss: 0.0430 - accuracy: 0.9833 - lr: 0.0500 - 25ms/epoch - 6ms/step\n",
            "Epoch 5/50\n",
            "4/4 - 0s - loss: 0.0338 - accuracy: 0.9833 - lr: 0.0500 - 21ms/epoch - 5ms/step\n",
            "Epoch 6/50\n",
            "4/4 - 0s - loss: 0.0294 - accuracy: 0.9833 - lr: 0.0500 - 22ms/epoch - 5ms/step\n",
            "Epoch 7/50\n",
            "4/4 - 0s - loss: 0.0360 - accuracy: 0.9833 - lr: 0.0500 - 28ms/epoch - 7ms/step\n",
            "Epoch 8/50\n",
            "4/4 - 0s - loss: 0.0278 - accuracy: 0.9917 - lr: 0.0500 - 20ms/epoch - 5ms/step\n",
            "Epoch 9/50\n",
            "4/4 - 0s - loss: 0.0476 - accuracy: 0.9833 - lr: 0.0500 - 47ms/epoch - 12ms/step\n",
            "Epoch 10/50\n",
            "4/4 - 0s - loss: 0.0857 - accuracy: 0.9750 - lr: 0.0500 - 26ms/epoch - 6ms/step\n",
            "Epoch 11/50\n",
            "4/4 - 0s - loss: 0.0312 - accuracy: 0.9833 - lr: 0.0050 - 28ms/epoch - 7ms/step\n",
            "Epoch 12/50\n",
            "4/4 - 0s - loss: 0.0273 - accuracy: 0.9833 - lr: 0.0050 - 46ms/epoch - 12ms/step\n",
            "Epoch 13/50\n",
            "4/4 - 0s - loss: 0.0305 - accuracy: 0.9833 - lr: 0.0050 - 36ms/epoch - 9ms/step\n",
            "Epoch 14/50\n",
            "4/4 - 0s - loss: 0.0281 - accuracy: 0.9833 - lr: 0.0050 - 42ms/epoch - 11ms/step\n",
            "Epoch 15/50\n",
            "4/4 - 0s - loss: 0.0221 - accuracy: 0.9833 - lr: 0.0050 - 36ms/epoch - 9ms/step\n",
            "Epoch 16/50\n",
            "4/4 - 0s - loss: 0.0224 - accuracy: 0.9917 - lr: 0.0050 - 35ms/epoch - 9ms/step\n",
            "Epoch 17/50\n",
            "4/4 - 0s - loss: 0.0232 - accuracy: 0.9833 - lr: 0.0050 - 35ms/epoch - 9ms/step\n",
            "Epoch 18/50\n",
            "4/4 - 0s - loss: 0.0217 - accuracy: 0.9833 - lr: 0.0050 - 37ms/epoch - 9ms/step\n",
            "Epoch 19/50\n",
            "4/4 - 0s - loss: 0.0216 - accuracy: 0.9833 - lr: 0.0050 - 31ms/epoch - 8ms/step\n",
            "Epoch 20/50\n",
            "4/4 - 0s - loss: 0.0214 - accuracy: 0.9833 - lr: 0.0050 - 19ms/epoch - 5ms/step\n",
            "Epoch 21/50\n",
            "4/4 - 0s - loss: 0.0209 - accuracy: 0.9833 - lr: 5.0000e-04 - 17ms/epoch - 4ms/step\n",
            "Epoch 22/50\n",
            "4/4 - 0s - loss: 0.0210 - accuracy: 0.9833 - lr: 5.0000e-04 - 26ms/epoch - 6ms/step\n",
            "Epoch 23/50\n",
            "4/4 - 0s - loss: 0.0209 - accuracy: 0.9833 - lr: 5.0000e-04 - 25ms/epoch - 6ms/step\n",
            "Epoch 24/50\n",
            "4/4 - 0s - loss: 0.0209 - accuracy: 0.9833 - lr: 5.0000e-04 - 14ms/epoch - 4ms/step\n",
            "Epoch 25/50\n",
            "4/4 - 0s - loss: 0.0208 - accuracy: 0.9833 - lr: 5.0000e-04 - 43ms/epoch - 11ms/step\n",
            "Epoch 26/50\n",
            "4/4 - 0s - loss: 0.0207 - accuracy: 0.9833 - lr: 5.0000e-04 - 15ms/epoch - 4ms/step\n",
            "Epoch 27/50\n",
            "4/4 - 0s - loss: 0.0207 - accuracy: 0.9833 - lr: 5.0000e-04 - 19ms/epoch - 5ms/step\n",
            "Epoch 28/50\n",
            "4/4 - 0s - loss: 0.0207 - accuracy: 0.9833 - lr: 5.0000e-04 - 22ms/epoch - 5ms/step\n",
            "Epoch 29/50\n",
            "4/4 - 0s - loss: 0.0207 - accuracy: 0.9833 - lr: 5.0000e-04 - 17ms/epoch - 4ms/step\n",
            "Epoch 30/50\n",
            "4/4 - 0s - loss: 0.0206 - accuracy: 0.9833 - lr: 5.0000e-04 - 28ms/epoch - 7ms/step\n",
            "Epoch 31/50\n",
            "4/4 - 0s - loss: 0.0205 - accuracy: 0.9833 - lr: 5.0000e-04 - 19ms/epoch - 5ms/step\n",
            "Epoch 32/50\n",
            "4/4 - 0s - loss: 0.0205 - accuracy: 0.9833 - lr: 5.0000e-04 - 24ms/epoch - 6ms/step\n",
            "Epoch 33/50\n",
            "4/4 - 0s - loss: 0.0205 - accuracy: 0.9833 - lr: 5.0000e-04 - 21ms/epoch - 5ms/step\n",
            "Epoch 34/50\n",
            "4/4 - 0s - loss: 0.0204 - accuracy: 0.9833 - lr: 5.0000e-04 - 17ms/epoch - 4ms/step\n",
            "Epoch 35/50\n",
            "4/4 - 0s - loss: 0.0204 - accuracy: 0.9833 - lr: 5.0000e-04 - 40ms/epoch - 10ms/step\n",
            "Epoch 36/50\n",
            "4/4 - 0s - loss: 0.0203 - accuracy: 0.9833 - lr: 5.0000e-04 - 39ms/epoch - 10ms/step\n",
            "Epoch 37/50\n",
            "4/4 - 0s - loss: 0.0203 - accuracy: 0.9833 - lr: 5.0000e-04 - 33ms/epoch - 8ms/step\n",
            "Epoch 38/50\n",
            "4/4 - 0s - loss: 0.0203 - accuracy: 0.9833 - lr: 5.0000e-04 - 35ms/epoch - 9ms/step\n",
            "Epoch 39/50\n",
            "4/4 - 0s - loss: 0.0202 - accuracy: 0.9833 - lr: 5.0000e-04 - 36ms/epoch - 9ms/step\n",
            "Epoch 40/50\n",
            "4/4 - 0s - loss: 0.0202 - accuracy: 0.9833 - lr: 5.0000e-04 - 25ms/epoch - 6ms/step\n",
            "Epoch 41/50\n",
            "4/4 - 0s - loss: 0.0202 - accuracy: 0.9833 - lr: 5.0000e-04 - 13ms/epoch - 3ms/step\n",
            "Epoch 42/50\n",
            "4/4 - 0s - loss: 0.0201 - accuracy: 0.9833 - lr: 5.0000e-04 - 35ms/epoch - 9ms/step\n",
            "Epoch 43/50\n",
            "4/4 - 0s - loss: 0.0202 - accuracy: 0.9833 - lr: 5.0000e-04 - 27ms/epoch - 7ms/step\n",
            "Epoch 44/50\n",
            "4/4 - 0s - loss: 0.0200 - accuracy: 0.9833 - lr: 5.0000e-04 - 37ms/epoch - 9ms/step\n",
            "Epoch 45/50\n",
            "4/4 - 0s - loss: 0.0200 - accuracy: 0.9833 - lr: 5.0000e-04 - 13ms/epoch - 3ms/step\n",
            "Epoch 46/50\n",
            "4/4 - 0s - loss: 0.0200 - accuracy: 0.9833 - lr: 5.0000e-04 - 14ms/epoch - 3ms/step\n",
            "Epoch 47/50\n",
            "4/4 - 0s - loss: 0.0200 - accuracy: 0.9833 - lr: 5.0000e-04 - 14ms/epoch - 4ms/step\n",
            "Epoch 48/50\n",
            "4/4 - 0s - loss: 0.0200 - accuracy: 0.9833 - lr: 5.0000e-04 - 13ms/epoch - 3ms/step\n",
            "Epoch 49/50\n",
            "4/4 - 0s - loss: 0.0199 - accuracy: 0.9917 - lr: 5.0000e-04 - 21ms/epoch - 5ms/step\n",
            "Epoch 50/50\n",
            "4/4 - 0s - loss: 0.0198 - accuracy: 0.9917 - lr: 5.0000e-04 - 39ms/epoch - 10ms/step\n",
            "1/1 [==============================] - 0s 264ms/step - loss: 0.1104 - accuracy: 0.9667\n",
            "Loss test:0.11040811240673065\n",
            "Accuracy test: 0.9666666388511658\n"
          ]
        }
      ]
    },
    {
      "cell_type": "code",
      "source": [
        "y_pred_encoded = model.predict(X_test)\n",
        "y_pred = np.argmax(y_pred_encoded, axis=1)\n",
        "\n",
        "results_df = pd.DataFrame({'True Label': y_test, 'Predicted Label': y_pred})\n",
        "results_df['Correct Prediction'] = results_df['True Label'] == results_df['Predicted Label']\n",
        "print(results_df)"
      ],
      "metadata": {
        "colab": {
          "base_uri": "https://localhost:8080/"
        },
        "id": "D64LlNkfM60y",
        "outputId": "e55b7df4-9871-463c-bbdd-3219e83af59b"
      },
      "execution_count": 6,
      "outputs": [
        {
          "output_type": "stream",
          "name": "stdout",
          "text": [
            "1/1 [==============================] - 0s 83ms/step\n",
            "    True Label  Predicted Label  Correct Prediction\n",
            "0            0                0                True\n",
            "1            2                2                True\n",
            "2            1                1                True\n",
            "3            1                1                True\n",
            "4            0                0                True\n",
            "5            1                1                True\n",
            "6            0                0                True\n",
            "7            0                0                True\n",
            "8            2                2                True\n",
            "9            1                1                True\n",
            "10           2                2                True\n",
            "11           2                2                True\n",
            "12           2                2                True\n",
            "13           1                1                True\n",
            "14           0                0                True\n",
            "15           0                0                True\n",
            "16           0                0                True\n",
            "17           1                1                True\n",
            "18           1                1                True\n",
            "19           2                2                True\n",
            "20           0                0                True\n",
            "21           2                2                True\n",
            "22           1                1                True\n",
            "23           2                2                True\n",
            "24           2                2                True\n",
            "25           1                2               False\n",
            "26           1                1                True\n",
            "27           0                0                True\n",
            "28           2                2                True\n",
            "29           0                0                True\n"
          ]
        }
      ]
    }
  ]
}