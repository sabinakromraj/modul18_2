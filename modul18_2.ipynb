{
  "nbformat": 4,
  "nbformat_minor": 0,
  "metadata": {
    "colab": {
      "provenance": []
    },
    "kernelspec": {
      "name": "python3",
      "display_name": "Python 3"
    },
    "language_info": {
      "name": "python"
    }
  },
  "cells": [
    {
      "cell_type": "code",
      "execution_count": 7,
      "metadata": {
        "id": "BnxZlTKR_tbB"
      },
      "outputs": [],
      "source": [
        "import numpy as np\n",
        "import pandas as pd\n",
        "from sklearn.model_selection import train_test_split\n",
        "from sklearn.preprocessing import StandardScaler\n",
        "from sklearn.metrics import accuracy_score\n",
        "from sklearn.datasets import load_iris\n",
        "from keras.models import Sequential\n",
        "from keras.layers import Dense\n",
        "from keras.callbacks import LearningRateScheduler\n",
        "from keras.utils import to_categorical"
      ]
    },
    {
      "cell_type": "code",
      "source": [
        "def const_scheduler(epoch):\n",
        "    if epoch < 10:\n",
        "        return 0.05\n",
        "    elif epoch < 20:\n",
        "        return 0.005\n",
        "    else:\n",
        "        return 0.0005\n",
        "\n",
        "\n",
        "iris = load_iris()\n",
        "X = iris.data\n",
        "y = iris.target\n",
        "\n",
        "X_train, X_test, y_train, y_test = train_test_split(X, y, test_size=0.2, random_state=42)\n",
        "\n",
        "scaler = StandardScaler()\n",
        "X_train = scaler.fit_transform(X_train)\n",
        "X_test = scaler.transform(X_test)\n",
        "\n",
        "y_train_encoded = to_categorical(y_train)\n",
        "y_test_encoded = to_categorical(y_test)"
      ],
      "metadata": {
        "id": "ydqXP_9b_1vk"
      },
      "execution_count": 9,
      "outputs": []
    },
    {
      "cell_type": "code",
      "source": [
        "model = Sequential([\n",
        "    Dense(8, input_dim=4, activation='relu'),\n",
        "    Dense(16, activation='relu'),\n",
        "    Dense(3, activation='softmax')\n",
        "])\n",
        "\n",
        "model.compile(\n",
        "    loss='categorical_crossentropy',\n",
        "    optimizer='adam',\n",
        "    metrics=['accuracy']\n",
        ")\n",
        "\n",
        "model.summary()"
      ],
      "metadata": {
        "colab": {
          "base_uri": "https://localhost:8080/"
        },
        "id": "9d-Ttu3wCjSz",
        "outputId": "1c4e5dfd-8e97-4c97-e09a-ed6413e70cbb"
      },
      "execution_count": 10,
      "outputs": [
        {
          "output_type": "stream",
          "name": "stdout",
          "text": [
            "Model: \"sequential_1\"\n",
            "_________________________________________________________________\n",
            " Layer (type)                Output Shape              Param #   \n",
            "=================================================================\n",
            " dense_3 (Dense)             (None, 8)                 40        \n",
            "                                                                 \n",
            " dense_4 (Dense)             (None, 16)                144       \n",
            "                                                                 \n",
            " dense_5 (Dense)             (None, 3)                 51        \n",
            "                                                                 \n",
            "=================================================================\n",
            "Total params: 235 (940.00 Byte)\n",
            "Trainable params: 235 (940.00 Byte)\n",
            "Non-trainable params: 0 (0.00 Byte)\n",
            "_________________________________________________________________\n"
          ]
        }
      ]
    },
    {
      "cell_type": "code",
      "source": [
        "lr_schedule = LearningRateScheduler(const_scheduler)\n",
        "\n",
        "model.fit(X_train, y_train_encoded, epochs=50, callbacks = [lr_schedule], verbose=2)\n",
        "\n",
        "y_pred_encoded = model.predict(X_test)\n",
        "y_pred = np.argmax(y_pred_encoded, axis=1)\n",
        "accuracy = accuracy_score(y_test, y_pred)\n",
        "print(f'Accuracy: {accuracy}')"
      ],
      "metadata": {
        "colab": {
          "base_uri": "https://localhost:8080/"
        },
        "id": "ZwdZPjFLOhNo",
        "outputId": "830f68dc-0e6e-4679-c814-3eb9e0492ce0"
      },
      "execution_count": 11,
      "outputs": [
        {
          "output_type": "stream",
          "name": "stdout",
          "text": [
            "Epoch 1/50\n",
            "4/4 - 1s - loss: 0.7390 - accuracy: 0.7167 - lr: 0.0500 - 1s/epoch - 281ms/step\n",
            "Epoch 2/50\n",
            "4/4 - 0s - loss: 0.3287 - accuracy: 0.8417 - lr: 0.0500 - 22ms/epoch - 6ms/step\n",
            "Epoch 3/50\n",
            "4/4 - 0s - loss: 0.2190 - accuracy: 0.9250 - lr: 0.0500 - 23ms/epoch - 6ms/step\n",
            "Epoch 4/50\n",
            "4/4 - 0s - loss: 0.2084 - accuracy: 0.9167 - lr: 0.0500 - 32ms/epoch - 8ms/step\n",
            "Epoch 5/50\n",
            "4/4 - 0s - loss: 0.1631 - accuracy: 0.9250 - lr: 0.0500 - 20ms/epoch - 5ms/step\n",
            "Epoch 6/50\n",
            "4/4 - 0s - loss: 0.1110 - accuracy: 0.9583 - lr: 0.0500 - 27ms/epoch - 7ms/step\n",
            "Epoch 7/50\n",
            "4/4 - 0s - loss: 0.0883 - accuracy: 0.9667 - lr: 0.0500 - 21ms/epoch - 5ms/step\n",
            "Epoch 8/50\n",
            "4/4 - 0s - loss: 0.0856 - accuracy: 0.9750 - lr: 0.0500 - 24ms/epoch - 6ms/step\n",
            "Epoch 9/50\n",
            "4/4 - 0s - loss: 0.0887 - accuracy: 0.9667 - lr: 0.0500 - 25ms/epoch - 6ms/step\n",
            "Epoch 10/50\n",
            "4/4 - 0s - loss: 0.0861 - accuracy: 0.9500 - lr: 0.0500 - 21ms/epoch - 5ms/step\n",
            "Epoch 11/50\n",
            "4/4 - 0s - loss: 0.0603 - accuracy: 0.9750 - lr: 0.0050 - 25ms/epoch - 6ms/step\n",
            "Epoch 12/50\n",
            "4/4 - 0s - loss: 0.0582 - accuracy: 0.9750 - lr: 0.0050 - 20ms/epoch - 5ms/step\n",
            "Epoch 13/50\n",
            "4/4 - 0s - loss: 0.0571 - accuracy: 0.9750 - lr: 0.0050 - 21ms/epoch - 5ms/step\n",
            "Epoch 14/50\n",
            "4/4 - 0s - loss: 0.0553 - accuracy: 0.9750 - lr: 0.0050 - 24ms/epoch - 6ms/step\n",
            "Epoch 15/50\n",
            "4/4 - 0s - loss: 0.0545 - accuracy: 0.9750 - lr: 0.0050 - 23ms/epoch - 6ms/step\n",
            "Epoch 16/50\n",
            "4/4 - 0s - loss: 0.0541 - accuracy: 0.9750 - lr: 0.0050 - 18ms/epoch - 4ms/step\n",
            "Epoch 17/50\n",
            "4/4 - 0s - loss: 0.0533 - accuracy: 0.9750 - lr: 0.0050 - 18ms/epoch - 4ms/step\n",
            "Epoch 18/50\n",
            "4/4 - 0s - loss: 0.0534 - accuracy: 0.9750 - lr: 0.0050 - 19ms/epoch - 5ms/step\n",
            "Epoch 19/50\n",
            "4/4 - 0s - loss: 0.0524 - accuracy: 0.9750 - lr: 0.0050 - 19ms/epoch - 5ms/step\n",
            "Epoch 20/50\n",
            "4/4 - 0s - loss: 0.0522 - accuracy: 0.9750 - lr: 0.0050 - 25ms/epoch - 6ms/step\n",
            "Epoch 21/50\n",
            "4/4 - 0s - loss: 0.0517 - accuracy: 0.9750 - lr: 5.0000e-04 - 18ms/epoch - 5ms/step\n",
            "Epoch 22/50\n",
            "4/4 - 0s - loss: 0.0517 - accuracy: 0.9750 - lr: 5.0000e-04 - 19ms/epoch - 5ms/step\n",
            "Epoch 23/50\n",
            "4/4 - 0s - loss: 0.0517 - accuracy: 0.9750 - lr: 5.0000e-04 - 19ms/epoch - 5ms/step\n",
            "Epoch 24/50\n",
            "4/4 - 0s - loss: 0.0516 - accuracy: 0.9750 - lr: 5.0000e-04 - 18ms/epoch - 4ms/step\n",
            "Epoch 25/50\n",
            "4/4 - 0s - loss: 0.0516 - accuracy: 0.9750 - lr: 5.0000e-04 - 20ms/epoch - 5ms/step\n",
            "Epoch 26/50\n",
            "4/4 - 0s - loss: 0.0515 - accuracy: 0.9750 - lr: 5.0000e-04 - 18ms/epoch - 5ms/step\n",
            "Epoch 27/50\n",
            "4/4 - 0s - loss: 0.0515 - accuracy: 0.9750 - lr: 5.0000e-04 - 18ms/epoch - 5ms/step\n",
            "Epoch 28/50\n",
            "4/4 - 0s - loss: 0.0514 - accuracy: 0.9750 - lr: 5.0000e-04 - 17ms/epoch - 4ms/step\n",
            "Epoch 29/50\n",
            "4/4 - 0s - loss: 0.0514 - accuracy: 0.9750 - lr: 5.0000e-04 - 25ms/epoch - 6ms/step\n",
            "Epoch 30/50\n",
            "4/4 - 0s - loss: 0.0514 - accuracy: 0.9750 - lr: 5.0000e-04 - 19ms/epoch - 5ms/step\n",
            "Epoch 31/50\n",
            "4/4 - 0s - loss: 0.0513 - accuracy: 0.9750 - lr: 5.0000e-04 - 24ms/epoch - 6ms/step\n",
            "Epoch 32/50\n",
            "4/4 - 0s - loss: 0.0513 - accuracy: 0.9750 - lr: 5.0000e-04 - 26ms/epoch - 6ms/step\n",
            "Epoch 33/50\n",
            "4/4 - 0s - loss: 0.0513 - accuracy: 0.9750 - lr: 5.0000e-04 - 23ms/epoch - 6ms/step\n",
            "Epoch 34/50\n",
            "4/4 - 0s - loss: 0.0512 - accuracy: 0.9750 - lr: 5.0000e-04 - 29ms/epoch - 7ms/step\n",
            "Epoch 35/50\n",
            "4/4 - 0s - loss: 0.0512 - accuracy: 0.9750 - lr: 5.0000e-04 - 18ms/epoch - 5ms/step\n",
            "Epoch 36/50\n",
            "4/4 - 0s - loss: 0.0512 - accuracy: 0.9750 - lr: 5.0000e-04 - 21ms/epoch - 5ms/step\n",
            "Epoch 37/50\n",
            "4/4 - 0s - loss: 0.0511 - accuracy: 0.9750 - lr: 5.0000e-04 - 19ms/epoch - 5ms/step\n",
            "Epoch 38/50\n",
            "4/4 - 0s - loss: 0.0511 - accuracy: 0.9750 - lr: 5.0000e-04 - 22ms/epoch - 5ms/step\n",
            "Epoch 39/50\n",
            "4/4 - 0s - loss: 0.0510 - accuracy: 0.9750 - lr: 5.0000e-04 - 17ms/epoch - 4ms/step\n",
            "Epoch 40/50\n",
            "4/4 - 0s - loss: 0.0510 - accuracy: 0.9750 - lr: 5.0000e-04 - 20ms/epoch - 5ms/step\n",
            "Epoch 41/50\n",
            "4/4 - 0s - loss: 0.0510 - accuracy: 0.9750 - lr: 5.0000e-04 - 17ms/epoch - 4ms/step\n",
            "Epoch 42/50\n",
            "4/4 - 0s - loss: 0.0509 - accuracy: 0.9750 - lr: 5.0000e-04 - 18ms/epoch - 5ms/step\n",
            "Epoch 43/50\n",
            "4/4 - 0s - loss: 0.0509 - accuracy: 0.9750 - lr: 5.0000e-04 - 17ms/epoch - 4ms/step\n",
            "Epoch 44/50\n",
            "4/4 - 0s - loss: 0.0509 - accuracy: 0.9750 - lr: 5.0000e-04 - 18ms/epoch - 4ms/step\n",
            "Epoch 45/50\n",
            "4/4 - 0s - loss: 0.0508 - accuracy: 0.9750 - lr: 5.0000e-04 - 18ms/epoch - 4ms/step\n",
            "Epoch 46/50\n",
            "4/4 - 0s - loss: 0.0508 - accuracy: 0.9750 - lr: 5.0000e-04 - 21ms/epoch - 5ms/step\n",
            "Epoch 47/50\n",
            "4/4 - 0s - loss: 0.0507 - accuracy: 0.9750 - lr: 5.0000e-04 - 18ms/epoch - 5ms/step\n",
            "Epoch 48/50\n",
            "4/4 - 0s - loss: 0.0507 - accuracy: 0.9750 - lr: 5.0000e-04 - 19ms/epoch - 5ms/step\n",
            "Epoch 49/50\n",
            "4/4 - 0s - loss: 0.0506 - accuracy: 0.9750 - lr: 5.0000e-04 - 17ms/epoch - 4ms/step\n",
            "Epoch 50/50\n",
            "4/4 - 0s - loss: 0.0506 - accuracy: 0.9750 - lr: 5.0000e-04 - 18ms/epoch - 5ms/step\n",
            "1/1 [==============================] - 0s 97ms/step\n",
            "Accuracy: 1.0\n"
          ]
        }
      ]
    }
  ]
}